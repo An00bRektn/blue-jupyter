{
 "cells": [
  {
   "cell_type": "markdown",
   "id": "3ce518f2-2d5c-4306-9c7e-c2b722ef35a3",
   "metadata": {},
   "source": [
    "# Malware Analysis & Triage Kit\n",
    "This notebook performs the initial stages of immediate malware triage.\n",
    "\n",
    "## How To\n",
    "Take your malware specimen and drop it into the `dropbox` directory. The notebook will walk you through the stages of initial analysis.\n",
    "\n",
    "At the end of this process, you will have a triage report in the `saved-specimens` diretory. This report includes findings from initial triage, including the defanged specimen in a password-proteced Zip file and static analysis artifacts."
   ]
  },
  {
   "cell_type": "markdown",
   "id": "5f44fca4-7efb-4475-80d9-c9379cb20efe",
   "metadata": {},
   "source": [
    "### Imports and Setup"
   ]
  },
  {
   "cell_type": "code",
   "execution_count": null,
   "id": "27c75489",
   "metadata": {},
   "outputs": [],
   "source": [
    "# Imports\n",
    "from hashlib import *\n",
    "import sys\n",
    "import os\n",
    "from getpass import getpass\n",
    "from virus_total_apis import PublicApi as VirusTotalPublicApi\n",
    "import json\n",
    "from MalwareSample import *\n",
    "from pprint import pprint"
   ]
  },
  {
   "cell_type": "markdown",
   "id": "6040f004-b9e1-40a8-97d7-47a695a244d1",
   "metadata": {},
   "source": [
    "### Enumerate Samples in the Dropbox"
   ]
  },
  {
   "cell_type": "code",
   "execution_count": null,
   "id": "05d854a4-2ee3-46ec-b054-9951ac45a4be",
   "metadata": {},
   "outputs": [],
   "source": [
    "samples=!ls dropbox/*"
   ]
  },
  {
   "cell_type": "code",
   "execution_count": null,
   "id": "6ac2bf59-027e-42d6-90e0-aeed55b19080",
   "metadata": {},
   "outputs": [],
   "source": [
    "sample_obj = [MalwareSample(s) for s in samples]"
   ]
  },
  {
   "cell_type": "markdown",
   "id": "d304d261-d1d8-45da-bcb5-895bcf0fa13d",
   "metadata": {},
   "source": [
    "### Create a Saved Specimen directory for the specimen(s)"
   ]
  },
  {
   "cell_type": "code",
   "execution_count": null,
   "id": "2180e548-b0ab-4c22-9be5-ad174c1c731f",
   "metadata": {},
   "outputs": [],
   "source": [
    "for obj in sample_obj:\n",
    "    saved_sample_name = MalwareSample.create_specimen_dirs(obj.sample_name)\n",
    "    obj.saved_sample_name = saved_sample_name"
   ]
  },
  {
   "cell_type": "markdown",
   "id": "5bbd76df",
   "metadata": {},
   "source": [
    "## Defang Sample"
   ]
  },
  {
   "cell_type": "code",
   "execution_count": null,
   "id": "26e85823-d891-4dfb-925e-8d36f24d3cb2",
   "metadata": {},
   "outputs": [],
   "source": [
    "for obj in sample_obj:\n",
    "    sample_path = MalwareSample.move_and_defang(obj.sample_name, obj.saved_sample_name)\n",
    "    obj.sample_path = sample_path"
   ]
  },
  {
   "cell_type": "markdown",
   "id": "ff1705d8",
   "metadata": {},
   "source": [
    "## File Hashes"
   ]
  },
  {
   "cell_type": "code",
   "execution_count": null,
   "id": "005b84f0",
   "metadata": {},
   "outputs": [],
   "source": [
    "for obj in sample_obj:\n",
    "    hash = MalwareSample.get_sha256sum(obj.sample_path)\n",
    "    obj.sha256sum = hash"
   ]
  },
  {
   "cell_type": "markdown",
   "id": "0b20f1aa",
   "metadata": {},
   "source": [
    "## StringSifter\n",
    "StringSifter is a FLARE developed tool that uses an ML model to rank a binary's strings by relevance to malware analysis."
   ]
  },
  {
   "cell_type": "code",
   "execution_count": null,
   "id": "d55ea3ab-ef6e-41f9-a76e-6cd8d16083ed",
   "metadata": {},
   "outputs": [],
   "source": [
    "length = int(input(recc + \"Input your desired minimum string length [default is 4, 6-8 is recommended] > \"))"
   ]
  },
  {
   "cell_type": "code",
   "execution_count": null,
   "id": "6703a990-6415-4898-b395-b77dccc629fc",
   "metadata": {},
   "outputs": [],
   "source": [
    "for obj in sample_obj:\n",
    "    MalwareSample.pull_strings(length, obj.saved_sample_name, obj.sample_path)"
   ]
  },
  {
   "cell_type": "markdown",
   "id": "ae8b0dfd-abcd-4215-87d9-275190551475",
   "metadata": {},
   "source": [
    "## VT Analysis\n",
    "Submit samples to Virus Total and generate a malicious confidence level."
   ]
  },
  {
   "cell_type": "code",
   "execution_count": null,
   "id": "98eea2a6-b219-4e50-ba91-9d43afa5b49c",
   "metadata": {},
   "outputs": [],
   "source": [
    "VT_API_KEY = getpass(\"Enter VirusTotal API Key (blank if none): \")"
   ]
  },
  {
   "cell_type": "code",
   "execution_count": null,
   "id": "22aaffd7-4ad5-48cf-bfac-636c62338621",
   "metadata": {},
   "outputs": [],
   "source": [
    "if VT_API_KEY:\n",
    "    vt = VirusTotalPublicApi(VT_API_KEY)\n",
    "else:\n",
    "    print(info + \"No VT API Key. Skipping...\")"
   ]
  },
  {
   "cell_type": "code",
   "execution_count": null,
   "id": "eab96775-bec5-4501-bfb9-3b3695190dd0",
   "metadata": {},
   "outputs": [],
   "source": [
    "if VT_API_KEY:\n",
    "    for obj in sample_obj:\n",
    "        print(info + obj.sample_name + \":\")\n",
    "        print(r\"  \\\\--> \" + info + \"SHA25sum: \" + obj.sha256sum)\n",
    "        res = vt.get_file_report(obj.sha256sum)\n",
    "        conf = malicious_confidence(res)\n",
    "        print(r\"  \\\\--> \" + info + \"Confidence level: \" + str(conf))\n",
    "        crit_level =  determine_criticality(conf)\n",
    "        obj.criticality = crit_level\n",
    "else:\n",
    "    print(info + \"No VT API Key. Skipping...\")"
   ]
  },
  {
   "cell_type": "markdown",
   "id": "1aca7034-9406-4f2a-bd8b-0b238c72db37",
   "metadata": {},
   "source": [
    "### Debug Object Vars"
   ]
  },
  {
   "cell_type": "code",
   "execution_count": null,
   "id": "9bcc8b5c-46a0-4e5e-bdc8-a9ae68b889ce",
   "metadata": {},
   "outputs": [],
   "source": [
    "for obj in sample_obj:\n",
    "    pprint(vars(obj))"
   ]
  }
 ],
 "metadata": {
  "kernelspec": {
   "display_name": "Python 3 (ipykernel)",
   "language": "python",
   "name": "python3"
  },
  "language_info": {
   "codemirror_mode": {
    "name": "ipython",
    "version": 3
   },
   "file_extension": ".py",
   "mimetype": "text/x-python",
   "name": "python",
   "nbconvert_exporter": "python",
   "pygments_lexer": "ipython3",
   "version": "3.8.10"
  }
 },
 "nbformat": 4,
 "nbformat_minor": 5
}
