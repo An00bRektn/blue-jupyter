{
 "cells": [
  {
   "cell_type": "markdown",
   "id": "3ce518f2-2d5c-4306-9c7e-c2b722ef35a3",
   "metadata": {},
   "source": [
    "# Malware Analysis & Triage Kit\n",
    "This notebook performs the initial stages of immediate malware triage.\n",
    "\n",
    "## How To\n",
    "Take your malware specimen and drop it into the `dropbox` directory. The notebook will walk you through the stages of initial analysis.\n",
    "\n",
    "At the end of this process, you will have a triage report in the `saved-specimens` diretory. This report includes findings from initial triage, including the defanged specimen in a password-proteced Zip file and static analysis artifacts."
   ]
  },
  {
   "cell_type": "markdown",
   "id": "5f44fca4-7efb-4475-80d9-c9379cb20efe",
   "metadata": {},
   "source": [
    "# Imports and Setup"
   ]
  },
  {
   "cell_type": "code",
   "execution_count": 1,
   "id": "27c75489",
   "metadata": {},
   "outputs": [],
   "source": [
    "# Imports\n",
    "from hashlib import *\n",
    "import sys\n",
    "import os\n",
    "from getpass import getpass\n",
    "from virus_total_apis import PublicApi as VirusTotalPublicApi\n",
    "import json\n",
    "from MalwareSample import *\n",
    "from pprint import pprint\n",
    "import os.path\n",
    "from time import sleep\n",
    "\n",
    "import pefile\n",
    "import requests\n",
    "import bs4"
   ]
  },
  {
   "cell_type": "markdown",
   "id": "664c107c-4e09-4454-9d0f-14b02a4a4359",
   "metadata": {},
   "source": [
    "### Check Dropbox and Saved-Specimens"
   ]
  },
  {
   "cell_type": "code",
   "execution_count": 2,
   "id": "2c185a74-8ca6-47a9-a907-575f9977bf97",
   "metadata": {},
   "outputs": [
    {
     "name": "stdout",
     "output_type": "stream",
     "text": [
      "\u001b[34m[*]\u001b[39m Directory 'dropbox' exists.\n",
      "\u001b[34m[*]\u001b[39m Directory 'saved-specimens' exists.\n"
     ]
    }
   ],
   "source": [
    "MalwareSample.check_dir(\"dropbox\")\n",
    "MalwareSample.check_dir(\"saved-specimens\")\n",
    "empty = MalwareSample.is_dir_empty(\"dropbox\")\n",
    "if empty:\n",
    "    print(r\"  \\\\--> \" + recc + \"Put some samples in the dropbox!\")"
   ]
  },
  {
   "cell_type": "markdown",
   "id": "6040f004-b9e1-40a8-97d7-47a695a244d1",
   "metadata": {},
   "source": [
    "### Enumerate Samples in the Dropbox"
   ]
  },
  {
   "cell_type": "code",
   "execution_count": 3,
   "id": "05d854a4-2ee3-46ec-b054-9951ac45a4be",
   "metadata": {},
   "outputs": [
    {
     "name": "stdout",
     "output_type": "stream",
     "text": [
      "\u001b[34m[*]\u001b[39m Sample: dropbox/SampleNegative.txt\n",
      "\u001b[34m[*]\u001b[39m Sample: dropbox/SamplePositive.txt\n",
      "\u001b[34m[*]\u001b[39m Sample: dropbox/Unknown.exe\n"
     ]
    }
   ],
   "source": [
    "samples=!ls dropbox/*\n",
    "for s in samples:\n",
    "    print(info + \"Sample: \" + s)"
   ]
  },
  {
   "cell_type": "code",
   "execution_count": 4,
   "id": "6ac2bf59-027e-42d6-90e0-aeed55b19080",
   "metadata": {},
   "outputs": [],
   "source": [
    "sample_obj = [MalwareSample(s) for s in samples]"
   ]
  },
  {
   "cell_type": "markdown",
   "id": "d304d261-d1d8-45da-bcb5-895bcf0fa13d",
   "metadata": {},
   "source": [
    "### Create a Saved Specimen directory for the specimen(s)"
   ]
  },
  {
   "cell_type": "code",
   "execution_count": 5,
   "id": "2180e548-b0ab-4c22-9be5-ad174c1c731f",
   "metadata": {},
   "outputs": [],
   "source": [
    "for obj in sample_obj:\n",
    "    saved_sample_name = MalwareSample.create_specimen_dirs(obj.sample_name)\n",
    "    obj.saved_sample_name = saved_sample_name"
   ]
  },
  {
   "cell_type": "markdown",
   "id": "5bbd76df",
   "metadata": {},
   "source": [
    "### Defang Sample"
   ]
  },
  {
   "cell_type": "code",
   "execution_count": 6,
   "id": "26e85823-d891-4dfb-925e-8d36f24d3cb2",
   "metadata": {},
   "outputs": [],
   "source": [
    "for obj in sample_obj:\n",
    "    sample_path = MalwareSample.move_and_defang(obj.sample_name, obj.saved_sample_name)\n",
    "    obj.sample_path = sample_path"
   ]
  },
  {
   "cell_type": "markdown",
   "id": "7532c0d9-1a4d-4cc9-af82-f9153d1aaa09",
   "metadata": {},
   "source": [
    "---"
   ]
  },
  {
   "cell_type": "markdown",
   "id": "6a11a2b7-dca9-4892-82b4-7d2c7d73956c",
   "metadata": {},
   "source": [
    "## File Hashes"
   ]
  },
  {
   "cell_type": "markdown",
   "id": "b6c61ed7-9ffe-420b-925f-4430abcc0532",
   "metadata": {},
   "source": [
    "### SHA256 Sum"
   ]
  },
  {
   "cell_type": "code",
   "execution_count": 7,
   "id": "005b84f0",
   "metadata": {},
   "outputs": [
    {
     "name": "stdout",
     "output_type": "stream",
     "text": [
      "\u001b[34m[*]\u001b[39m SampleNegative.txt: ffabe6c6a2911b4f47edaff4b5a2ffac92b891d5949bcb2e1de66c7b9743728e\n",
      "\u001b[34m[*]\u001b[39m SamplePositive.txt: 275a021bbfb6489e54d471899f7db9d1663fc695ec2fe2a2c4538aabf651fd0f\n",
      "\u001b[34m[*]\u001b[39m Unknown.exe: 92730427321a1c4ccfc0d0580834daef98121efa9bb8963da332bfd6cf1fda8a\n"
     ]
    }
   ],
   "source": [
    "for obj in sample_obj:\n",
    "    hash = MalwareSample.get_sha256sum(obj.sample_path, obj.saved_sample_name)\n",
    "    obj.sha256sum = hash\n",
    "    print(info + obj.sample_name + \": \" + obj.sha256sum)"
   ]
  },
  {
   "cell_type": "markdown",
   "id": "b6262536-41fe-46ef-a122-a7128be06891",
   "metadata": {},
   "source": [
    "---"
   ]
  },
  {
   "cell_type": "markdown",
   "id": "1ba005fc-242a-44bd-9830-fe02dbd500db",
   "metadata": {},
   "source": [
    "## String Analysis"
   ]
  },
  {
   "cell_type": "markdown",
   "id": "0b20f1aa",
   "metadata": {},
   "source": [
    "### StringSifter\n",
    "StringSifter is a FLARE developed tool that uses an ML model to rank a binary's strings by relevance to malware analysis."
   ]
  },
  {
   "cell_type": "code",
   "execution_count": 8,
   "id": "d55ea3ab-ef6e-41f9-a76e-6cd8d16083ed",
   "metadata": {},
   "outputs": [],
   "source": [
    "length = int(input(recc + \"Input your desired minimum string length [default is 4, 6-8 is recommended] > \"))"
   ]
  },
  {
   "cell_type": "code",
   "execution_count": 9,
   "id": "6703a990-6415-4898-b395-b77dccc629fc",
   "metadata": {},
   "outputs": [
    {
     "name": "stdout",
     "output_type": "stream",
     "text": [
      "\u001b[33m[*]\u001b[39m Written to outfile: saved-specimens/01-03-2022-125541_SampleNegative.txt/StringSifter-Out.log\n",
      "\u001b[33m[*]\u001b[39m Written to outfile: saved-specimens/01-03-2022-125541_SamplePositive.txt/StringSifter-Out.log\n",
      "\u001b[33m[*]\u001b[39m Written to outfile: saved-specimens/01-03-2022-125541_Unknown.exe/StringSifter-Out.log\n"
     ]
    }
   ],
   "source": [
    "for obj in sample_obj:\n",
    "    MalwareSample.pull_strings(length, obj.saved_sample_name, obj.sample_path)"
   ]
  },
  {
   "cell_type": "markdown",
   "id": "ae8b0dfd-abcd-4215-87d9-275190551475",
   "metadata": {},
   "source": [
    "## VT Analysis\n",
    "Submit samples to Virus Total and generate a malicious confidence level."
   ]
  },
  {
   "cell_type": "code",
   "execution_count": 10,
   "id": "98eea2a6-b219-4e50-ba91-9d43afa5b49c",
   "metadata": {},
   "outputs": [],
   "source": [
    "VT_API_KEY = getpass(\"Enter VirusTotal API Key (blank if none): \")"
   ]
  },
  {
   "cell_type": "code",
   "execution_count": 11,
   "id": "22aaffd7-4ad5-48cf-bfac-636c62338621",
   "metadata": {},
   "outputs": [
    {
     "name": "stdout",
     "output_type": "stream",
     "text": [
      "\u001b[34m[*]\u001b[39m No VT API Key. Skipping...\n"
     ]
    }
   ],
   "source": [
    "if VT_API_KEY:\n",
    "    vt = VirusTotalPublicApi(VT_API_KEY)\n",
    "else:\n",
    "    print(info + \"No VT API Key. Skipping...\")"
   ]
  },
  {
   "cell_type": "markdown",
   "id": "b7bfdd87-4fcb-4b05-a0e7-8b1c796f17a7",
   "metadata": {},
   "source": [
    "Note: If there are more than 4 samples in the dropbox, hashes are submitted with a sleep of 16 seconds to remain under the public API rate limit. So hit go, grab a beverage of choice, stretch out and relax. This could be a while depending on how many samples you're submitting."
   ]
  },
  {
   "cell_type": "code",
   "execution_count": 12,
   "id": "eab96775-bec5-4501-bfb9-3b3695190dd0",
   "metadata": {},
   "outputs": [
    {
     "name": "stdout",
     "output_type": "stream",
     "text": [
      "\u001b[34m[*]\u001b[39m No VT API Key. Skipping...\n"
     ]
    }
   ],
   "source": [
    "if VT_API_KEY:\n",
    "    for obj in sample_obj:\n",
    "        print(info + obj.sample_name + \":\")\n",
    "        print(r\"  \\\\--> \" + info + \"SHA256sum: \" + obj.sha256sum)\n",
    "        res = vt.get_file_report(obj.sha256sum)\n",
    "        conf = malicious_confidence(res)\n",
    "        print(r\"  \\\\--> \" + info + \"Confidence level: \" + str(conf))\n",
    "        crit_level =  determine_criticality(conf)\n",
    "        obj.criticality = crit_level\n",
    "        \n",
    "\n",
    "        if len(sample_obj) >= 5:\n",
    "            sleep(16)\n",
    "        \n",
    "else:\n",
    "    print(info + \"No VT API Key. Skipping...\")"
   ]
  },
  {
   "cell_type": "markdown",
   "id": "782868c7",
   "metadata": {},
   "source": [
    "## Identify PE Sample and Parse IAT\n",
    "Original Code: Squiblydoo [MalAPIReader](https://github.com/Squiblydoo/MalAPIReader)"
   ]
  },
  {
   "cell_type": "code",
   "execution_count": 13,
   "id": "c5e06094",
   "metadata": {},
   "outputs": [
    {
     "name": "stdout",
     "output_type": "stream",
     "text": [
      "\u001b[34m[*]\u001b[39m SampleNegative.txt is not a valid PE file. Skipping...\n",
      "\u001b[34m[*]\u001b[39m SamplePositive.txt is not a valid PE file. Skipping...\n",
      "---- KERNEL32.dll ----\n",
      "GetModuleFileNameW\n",
      "CloseHandle\n",
      "CreateProcessW\n",
      "GetCurrentProcessId\n",
      "GetCurrentProcessId is used to retrieve the process identifier of the calling process.\n",
      "GetCurrentThreadId\n",
      "GetCurrentThreadId is used to retrieve the thread identifier of the calling thread.\n",
      "IsProcessorFeaturePresent\n",
      "GetSystemTimeAsFileTime\n",
      "Retrieves the current system date and time. The information is in Coordinated Universal Time (UTC) format. This function is commonly used by malware for anti-debugging.\n",
      "InitializeSListHead\n",
      "IsDebuggerPresent\n",
      "IsDebuggerPresent is used to determine whether the calling process is being debugged by a user-mode debugger.\n",
      "TerminateProcess\n",
      "TerminateProcess is used to terminate a process.\n",
      "GetCurrentProcess\n",
      "GetCurrentProcess is used to retrieve a handle for the current process.\n",
      "GetModuleHandleW\n",
      "UnhandledExceptionFilter\n",
      "SetUnhandledExceptionFilter\n",
      "QueryPerformanceCounter\n",
      "QueryPerformanceCounter is used to retrieve the frequency of the performance counter. This function is commonly used by malware for anti-debugging purposes. The malware will measure the time before and after an operation, if the time exceeds taken expected time, the malware will terminate or activate a benign function.\n",
      "---- SHELL32.dll ----\n",
      "ShellExecuteW\n",
      "---- MSVCP140.dll ----\n",
      "_Query_perf_frequency\n",
      "_Thrd_sleep\n",
      "_Query_perf_counter\n",
      "_Xtime_get_ticks\n",
      "---- urlmon.dll ----\n",
      "URLDownloadToFileW\n",
      "---- WININET.dll ----\n",
      "InternetOpenW\n",
      "InternetOpenUrlW\n",
      "---- VCRUNTIME140.dll ----\n",
      "__current_exception\n",
      "__current_exception_context\n",
      "_except_handler4_common\n",
      "memset\n",
      "---- api-ms-win-crt-stdio-l1-1-0.dll ----\n",
      "__p__commode\n",
      "__stdio_common_vswprintf\n",
      "_set_fmode\n",
      "---- api-ms-win-crt-runtime-l1-1-0.dll ----\n",
      "_c_exit\n",
      "_seh_filter_exe\n",
      "_initialize_onexit_table\n",
      "_register_onexit_function\n",
      "_crt_atexit\n",
      "_controlfp_s\n",
      "terminate\n",
      "_set_app_type\n",
      "_configure_narrow_argv\n",
      "_register_thread_local_exe_atexit_callback\n",
      "_cexit\n",
      "__p___argv\n",
      "__p___argc\n",
      "_exit\n",
      "exit\n",
      "_initterm_e\n",
      "_initterm\n",
      "_get_initial_narrow_environment\n",
      "_initialize_narrow_environment\n",
      "---- api-ms-win-crt-math-l1-1-0.dll ----\n",
      "__setusermatherr\n",
      "---- api-ms-win-crt-locale-l1-1-0.dll ----\n",
      "_configthreadlocale\n",
      "---- api-ms-win-crt-heap-l1-1-0.dll ----\n",
      "_set_new_mode\n"
     ]
    }
   ],
   "source": [
    "# MalAPI.io currently does not have an actual API\n",
    "\"\"\"\n",
    "TODO:\n",
    "    Identify PE sample\n",
    "    Parse IAT and compare to entries on MalAPI\n",
    "    Retain results in object\n",
    "\"\"\"\n",
    "def apiCheck(api):\n",
    "    APItoCheck = api\n",
    "    APICheck = requests.get(\"https://malapi.io/winapi/\" + APItoCheck)\n",
    "    APICheck.raise_for_status()\n",
    "    APISoup = bs4.BeautifulSoup(APICheck.text, 'html.parser')\n",
    "    \n",
    "    details = APISoup.select('.detail-container .content')\n",
    "    ApiInfo = details[1].getText().lstrip().rstrip()\n",
    "    print(ApiInfo)\n",
    "    \n",
    "\n",
    "\n",
    "for obj in sample_obj:\n",
    "    try:\n",
    "        pe = pefile.PE(\"./dropbox/\"+obj.sample_name, fast_load=True)\n",
    "        pe.parse_data_directories()\n",
    "        for entry in pe.DIRECTORY_ENTRY_IMPORT:\n",
    "            print(\"----\", entry.dll.decode(\"utf-8\"),\"----\")\n",
    "            for imp in entry.imports:\n",
    "                print(imp.name.decode(\"utf-8\"))\n",
    "                try:\n",
    "                    apiCheck(imp.name.decode(\"utf-8\"))\n",
    "                except:\n",
    "                    continue\n",
    "    except pefile.PEFormatError:\n",
    "        print(info + f\"{obj.sample_name} is not a valid PE file. Skipping...\")\n",
    "\n",
    "\n"
   ]
  },
  {
   "cell_type": "markdown",
   "id": "343fa9fa-4c44-445c-ab71-687f1e7d56fa",
   "metadata": {},
   "source": [
    "## Zip and Password Protect"
   ]
  },
  {
   "cell_type": "code",
   "execution_count": 14,
   "id": "d1d38b8e-dc28-42ba-a9ce-2ab3bf11ce61",
   "metadata": {},
   "outputs": [],
   "source": [
    "for obj in sample_obj:\n",
    "    zip_file = MalwareSample.zip_and_password_protect(obj.sample_path, obj.saved_sample_name)\n",
    "    MalwareSample.delete_unzipped_sample(obj.sample_path, zip_file)"
   ]
  },
  {
   "cell_type": "markdown",
   "id": "633b965d-d0f8-47ab-ad92-07e379e2cdbf",
   "metadata": {},
   "source": [
    "---"
   ]
  },
  {
   "cell_type": "markdown",
   "id": "1aca7034-9406-4f2a-bd8b-0b238c72db37",
   "metadata": {},
   "source": [
    "### Debug Object Vars"
   ]
  },
  {
   "cell_type": "code",
   "execution_count": 15,
   "id": "9bcc8b5c-46a0-4e5e-bdc8-a9ae68b889ce",
   "metadata": {},
   "outputs": [
    {
     "name": "stdout",
     "output_type": "stream",
     "text": [
      "{'sample_name': 'SampleNegative.txt',\n",
      " 'sample_path': 'saved-specimens/01-03-2022-125541_SampleNegative.txt/Malware.SampleNegative.txt.malz',\n",
      " 'saved_sample_name': '01-03-2022-125541_SampleNegative.txt',\n",
      " 'sha256sum': 'ffabe6c6a2911b4f47edaff4b5a2ffac92b891d5949bcb2e1de66c7b9743728e'}\n",
      "{'sample_name': 'SamplePositive.txt',\n",
      " 'sample_path': 'saved-specimens/01-03-2022-125541_SamplePositive.txt/Malware.SamplePositive.txt.malz',\n",
      " 'saved_sample_name': '01-03-2022-125541_SamplePositive.txt',\n",
      " 'sha256sum': '275a021bbfb6489e54d471899f7db9d1663fc695ec2fe2a2c4538aabf651fd0f'}\n",
      "{'sample_name': 'Unknown.exe',\n",
      " 'sample_path': 'saved-specimens/01-03-2022-125541_Unknown.exe/Malware.Unknown.exe.malz',\n",
      " 'saved_sample_name': '01-03-2022-125541_Unknown.exe',\n",
      " 'sha256sum': '92730427321a1c4ccfc0d0580834daef98121efa9bb8963da332bfd6cf1fda8a'}\n"
     ]
    }
   ],
   "source": [
    "for obj in sample_obj:\n",
    "    pprint(vars(obj))"
   ]
  }
 ],
 "metadata": {
  "kernelspec": {
   "display_name": "Python 3 (ipykernel)",
   "language": "python",
   "name": "python3"
  },
  "language_info": {
   "codemirror_mode": {
    "name": "ipython",
    "version": 3
   },
   "file_extension": ".py",
   "mimetype": "text/x-python",
   "name": "python",
   "nbconvert_exporter": "python",
   "pygments_lexer": "ipython3",
   "version": "3.8.10"
  }
 },
 "nbformat": 4,
 "nbformat_minor": 5
}
