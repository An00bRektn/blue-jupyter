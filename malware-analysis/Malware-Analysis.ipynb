{
 "cells": [
  {
   "cell_type": "markdown",
   "id": "3ce518f2-2d5c-4306-9c7e-c2b722ef35a3",
   "metadata": {},
   "source": [
    "# Malware Analysis & Triage Kit\n",
    "This notebook performs the initial stages of immediate malware triage.\n",
    "\n",
    "## How To\n",
    "Take your malware specimen and drop it into the `dropbox` directory. The notebook will walk you through the stages of initial analysis.\n",
    "\n",
    "At the end of this process, you will have a triage report in the `saved-specimens` diretory. This report includes findings from initial triage, including the defanged specimen in a password-proteced Zip file and static analysis artifacts."
   ]
  },
  {
   "cell_type": "markdown",
   "id": "5f44fca4-7efb-4475-80d9-c9379cb20efe",
   "metadata": {},
   "source": [
    "### Imports and Setup"
   ]
  },
  {
   "cell_type": "code",
   "execution_count": 1,
   "id": "27c75489",
   "metadata": {},
   "outputs": [],
   "source": [
    "# Import main.py for malware analysis scirpt\n",
    "from main import *\n",
    "from hashlib import *\n",
    "import sys\n",
    "import os\n",
    "from getpass import getpass\n",
    "from virus_total_apis import PublicApi as VirusTotalPublicApi\n",
    "import json"
   ]
  },
  {
   "cell_type": "code",
   "execution_count": 2,
   "id": "dc705331",
   "metadata": {},
   "outputs": [
    {
     "name": "stdout",
     "output_type": "stream",
     "text": [
      "SamplePositive.txt\n",
      "SampleNegative.txt\n"
     ]
    }
   ],
   "source": [
    "samples = enum_malware_samples()"
   ]
  },
  {
   "cell_type": "code",
   "execution_count": 3,
   "id": "381d529b-6493-4a6a-bae6-aa157a1fa4a9",
   "metadata": {},
   "outputs": [],
   "source": [
    "specimen_dirs = create_specimen_dirs(samples)"
   ]
  },
  {
   "cell_type": "code",
   "execution_count": 4,
   "id": "74503a78-a885-42d0-b36e-48a34a28570b",
   "metadata": {},
   "outputs": [],
   "source": [
    "saved_samples = move_samples(samples, specimen_dirs)"
   ]
  },
  {
   "cell_type": "markdown",
   "id": "ff1705d8",
   "metadata": {},
   "source": [
    "## File Hashes"
   ]
  },
  {
   "cell_type": "code",
   "execution_count": 5,
   "id": "005b84f0",
   "metadata": {},
   "outputs": [
    {
     "name": "stdout",
     "output_type": "stream",
     "text": [
      "\u001b[32m[+]\u001b[39m Sample: saved-specimens/09-25-2021-112446_SamplePositive.txt/SamplePositive.txt SHA256 SUM: 275a021bbfb6489e54d471899f7db9d1663fc695ec2fe2a2c4538aabf651fd0f\n",
      "\u001b[32m[+]\u001b[39m Sample: saved-specimens/09-25-2021-112446_SampleNegative.txt/SampleNegative.txt SHA256 SUM: 5814318064326228845b4b2e8f4ae11d0d249475e2845e5eda05fb84bbb19bce\n"
     ]
    }
   ],
   "source": [
    "hashes = get_hashes(saved_samples)"
   ]
  },
  {
   "cell_type": "markdown",
   "id": "5bbd76df",
   "metadata": {},
   "source": [
    "## Defang Sample"
   ]
  },
  {
   "cell_type": "code",
   "execution_count": 6,
   "id": "ed700153",
   "metadata": {},
   "outputs": [
    {
     "name": "stdout",
     "output_type": "stream",
     "text": [
      "Defang!\n"
     ]
    }
   ],
   "source": [
    "#TODO\n",
    "defang_samples(saved_samples)"
   ]
  },
  {
   "cell_type": "markdown",
   "id": "0b20f1aa",
   "metadata": {},
   "source": [
    "## Strings, FLOSS, and StringSifter\n",
    "TODO: Currently working on solving poetry add/install issue with remote repositories (`poetry add https://github.com/fireeye/flare-floss/zipball/master` doesn't work\n",
    "\n",
    "### StringSifter\n",
    "StringSifter is a FLARE developed tool that uses an ML model to rank a binary's strings by relevance to malware analysis."
   ]
  },
  {
   "cell_type": "code",
   "execution_count": 7,
   "id": "6703a990-6415-4898-b395-b77dccc629fc",
   "metadata": {},
   "outputs": [
    {
     "name": "stdout",
     "output_type": "stream",
     "text": [
      "['saved-specimens/09-25-2021-112446_SamplePositive.txt/SamplePositive.txt', 'saved-specimens/09-25-2021-112446_SampleNegative.txt/SampleNegative.txt']\n"
     ]
    },
    {
     "name": "stdin",
     "output_type": "stream",
     "text": [
      "\u001b[33m[*]\u001b[39m Input your desired minimum string length [default is 4, 6-8 is recommended] >  8\n"
     ]
    },
    {
     "name": "stdout",
     "output_type": "stream",
     "text": [
      "\u001b[33m[*]\u001b[39m Written to outfile: StringSifter-Out.log\n",
      "\u001b[33m[*]\u001b[39m Written to outfile: StringSifter-Out.log\n"
     ]
    }
   ],
   "source": [
    "pull_strings(saved_samples, specimen_dirs)"
   ]
  },
  {
   "cell_type": "markdown",
   "id": "ae8b0dfd-abcd-4215-87d9-275190551475",
   "metadata": {},
   "source": [
    "## VT Analysis\n",
    "Submit samples to Virus Total and generate a malicious confidence level."
   ]
  },
  {
   "cell_type": "code",
   "execution_count": 5,
   "id": "98eea2a6-b219-4e50-ba91-9d43afa5b49c",
   "metadata": {},
   "outputs": [
    {
     "name": "stdin",
     "output_type": "stream",
     "text": [
      "Enter VirusTotal API Key (blank if none):  \n"
     ]
    }
   ],
   "source": [
    "VT_API_KEY = getpass(\"Enter VirusTotal API Key (blank if none): \")"
   ]
  },
  {
   "cell_type": "code",
   "execution_count": 5,
   "id": "22aaffd7-4ad5-48cf-bfac-636c62338621",
   "metadata": {},
   "outputs": [
    {
     "ename": "NameError",
     "evalue": "name 'VT_API_KEY' is not defined",
     "output_type": "error",
     "traceback": [
      "\u001b[0;31m---------------------------------------------------------------------------\u001b[0m",
      "\u001b[0;31mNameError\u001b[0m                                 Traceback (most recent call last)",
      "\u001b[0;32m/tmp/ipykernel_10951/4127892046.py\u001b[0m in \u001b[0;36m<module>\u001b[0;34m\u001b[0m\n\u001b[0;32m----> 1\u001b[0;31m \u001b[0;32mif\u001b[0m \u001b[0mVT_API_KEY\u001b[0m\u001b[0;34m:\u001b[0m\u001b[0;34m\u001b[0m\u001b[0;34m\u001b[0m\u001b[0m\n\u001b[0m\u001b[1;32m      2\u001b[0m     \u001b[0mvt\u001b[0m \u001b[0;34m=\u001b[0m \u001b[0mVirusTotalPublicApi\u001b[0m\u001b[0;34m(\u001b[0m\u001b[0mVT_API_KEY\u001b[0m\u001b[0;34m)\u001b[0m\u001b[0;34m\u001b[0m\u001b[0;34m\u001b[0m\u001b[0m\n\u001b[1;32m      3\u001b[0m \u001b[0;32melse\u001b[0m\u001b[0;34m:\u001b[0m\u001b[0;34m\u001b[0m\u001b[0;34m\u001b[0m\u001b[0m\n\u001b[1;32m      4\u001b[0m     \u001b[0mprint\u001b[0m\u001b[0;34m(\u001b[0m\u001b[0minfo\u001b[0m \u001b[0;34m+\u001b[0m \u001b[0;34m\"No VT API Key. Skipping...\"\u001b[0m\u001b[0;34m)\u001b[0m\u001b[0;34m\u001b[0m\u001b[0;34m\u001b[0m\u001b[0m\n",
      "\u001b[0;31mNameError\u001b[0m: name 'VT_API_KEY' is not defined"
     ]
    }
   ],
   "source": [
    "if VT_API_KEY:\n",
    "    vt = VirusTotalPublicApi(VT_API_KEY)\n",
    "else:\n",
    "    print(info + \"No VT API Key. Skipping...\")"
   ]
  },
  {
   "cell_type": "code",
   "execution_count": null,
   "id": "eab96775-bec5-4501-bfb9-3b3695190dd0",
   "metadata": {},
   "outputs": [],
   "source": [
    "if vt:\n",
    "    for hash in hashes:\n",
    "        try:\n",
    "            print(info + \"SHA25sum: \" + hash)\n",
    "            #res = vt.get_file_report(hash)\n",
    "            # Test case with known bad hash:\n",
    "            res = vt.get_file_report(hash)\n",
    "\n",
    "            #print([r[\"result\"] for r in res[\"results\"][\"scans\"].values()])\n",
    "\n",
    "            # TODO: do something here to parse response code dict object. if > 0, success. Else, respond with \"nothing returned from VT\"\n",
    "            # Right now, a negative result returns Error: 'scans' which could be handled more gracefully\n",
    "            conf = malicious_confidence(res)\n",
    "            print(info + \"Confidence level: \" + str(conf))\n",
    "            criticality =  determine_criticality(conf)\n",
    "            \n",
    "            \n",
    "        except Exception as e:\n",
    "            print(printError + \"Error: \" + str(e))\n",
    "            pass\n",
    "else:\n",
    "    print(info + \"No VT Key. Skipping...\")"
   ]
  },
  {
   "cell_type": "code",
   "execution_count": null,
   "id": "75faee0e-300f-43ab-b0da-287931b3e74a",
   "metadata": {},
   "outputs": [],
   "source": []
  }
 ],
 "metadata": {
  "kernelspec": {
   "display_name": "Python 3 (ipykernel)",
   "language": "python",
   "name": "python3"
  },
  "language_info": {
   "codemirror_mode": {
    "name": "ipython",
    "version": 3
   },
   "file_extension": ".py",
   "mimetype": "text/x-python",
   "name": "python",
   "nbconvert_exporter": "python",
   "pygments_lexer": "ipython3",
   "version": "3.8.10"
  }
 },
 "nbformat": 4,
 "nbformat_minor": 5
}
